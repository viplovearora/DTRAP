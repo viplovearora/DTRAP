{
 "cells": [
  {
   "cell_type": "code",
   "execution_count": null,
   "id": "87a45af2",
   "metadata": {},
   "outputs": [],
   "source": [
    "from gurobipy import *\n",
    "import random\n",
    "import matplotlib.pyplot as plt\n",
    "import numpy as np\n",
    "import pickle\n",
    "import pandas as pd\n",
    "import pickle"
   ]
  },
  {
   "attachments": {},
   "cell_type": "markdown",
   "id": "961a3b54",
   "metadata": {},
   "source": [
    "The dataset used for this case study are confidential, instead we share a template of the csv file (see lji_template.csv)"
   ]
  },
  {
   "cell_type": "code",
   "execution_count": null,
   "id": "da24e3c2",
   "metadata": {},
   "outputs": [],
   "source": [
    "dat = pd.read_csv('*.csv', sep=';')"
   ]
  },
  {
   "cell_type": "markdown",
   "id": "65d5cdc6",
   "metadata": {},
   "source": [
    "Define variables for the problem using the data"
   ]
  },
  {
   "cell_type": "code",
   "execution_count": null,
   "id": "989c3b9b",
   "metadata": {},
   "outputs": [],
   "source": [
    "V = dat.shape[0]\n",
    "Q = np.log2(dat.iloc[:,12]*dat.iloc[:,10])\n",
    "Cq = np.ones(V)\n",
    "num_samples = 1000\n",
    "# define proportion of trafficking as a random variable\n",
    "s_mean = dat.iloc[:,3]/dat.iloc[:,2]\n",
    "s_mean[10]=.31\n",
    "s_mean[s_mean==0]=.05\n",
    "mar = .1\n",
    "s=np.minimum(np.maximum(np.random.triangular(left=s_mean-mar, mode=s_mean, right=s_mean+mar, size=(num_samples, len(s_mean))),0),1)\n",
    "\n",
    "S1 = [Q*(1-s[j]) for j in range(num_samples)]\n",
    "S2 = [Q*s[j] for j in range(num_samples)]\n",
    "\n",
    "num_devices = V\n",
    "ytpr = (dat.iloc[:,5:10] * [.1,.3,.5,.7,.9]).sum(axis=1)/dat.iloc[:,2]"
   ]
  },
  {
   "cell_type": "code",
   "execution_count": null,
   "id": "69b85fea",
   "metadata": {},
   "outputs": [],
   "source": [
    "tnr = 0.5\n",
    "ytnr = tnr * np.ones(V)"
   ]
  },
  {
   "attachments": {},
   "cell_type": "markdown",
   "id": "8980d4cf",
   "metadata": {},
   "source": [
    "Compute coefficients for the optimization problem"
   ]
  },
  {
   "cell_type": "code",
   "execution_count": null,
   "id": "eed69bda",
   "metadata": {},
   "outputs": [],
   "source": [
    "coeff2 = [[a*b for a,b in zip(S2[j],ytpr)] for j in range(num_samples)]\n",
    "coeff3 = [[a*b for a,b in zip(S1[j],ytnr)] for j in range(num_samples)]\n",
    "coq = [S1[j]*(1-ytnr)+S2[j]*(1-ytpr) for j in range(num_samples)]"
   ]
  },
  {
   "attachments": {},
   "cell_type": "markdown",
   "id": "57693d35",
   "metadata": {},
   "source": [
    "DTRAP-DIFFRES for LJI"
   ]
  },
  {
   "cell_type": "code",
   "execution_count": null,
   "id": "e6fb8fd2",
   "metadata": {},
   "outputs": [],
   "source": [
    "alloc_lji = dat.iloc[:,11]\n",
    "B = sum(dat.iloc[:,11])\n",
    "K = 55\n",
    "L = 5*K\n",
    "H1 =  np.random.uniform(.5, 1, B)"
   ]
  },
  {
   "cell_type": "code",
   "execution_count": null,
   "id": "5d458c19",
   "metadata": {},
   "outputs": [],
   "source": [
    "m = Model()\n",
    "m.ModelSense = 1  # minimize\n",
    "# Add variables\n",
    "x = m.addVars(V, B, vtype=GRB.BINARY, name='x')\n",
    "error = m.addVars(num_samples, obj=1.0/num_samples, name='error')\n",
    "# m.setObjective(quicksum(coq[i]*x[i] for i in range(V)), GRB.MINIMIZE)\n",
    "# Set constraints\n",
    "# m.addConstr(quicksum(Cq[i]*x[i,k] for i in range(V) for k in range(num_devices)) <= B, name=\"resources\")\n",
    "m.addConstrs((quicksum(coeff2[j][i]*H1[k]*x[i,k] for i in range(V) for k in range(B)) >= K for j in range(num_samples)), name=\"HT\")\n",
    "m.addConstrs((quicksum(coeff3[j][i]*H1[k]*x[i,k] for i in range(V) for k in range(B)) <= L for j in range(num_samples)), name=\"NHT\")\n",
    "m.addConstrs((error[j] == quicksum(coq[j][i]*H1[k]*x[i,k] for i in range(V) for k in range(B)) for j in range(num_samples)), name='error')\n",
    "# additional constraints for DTRAP-DIFFRES\n",
    "m.addConstrs((quicksum(x[i,k] for i in range(V)) == 1 for k in range(B)), name=\"feas1\")\n",
    "m.addConstrs((quicksum(x[i,k] for k in range(B)) <= 10 for i in range(V)), name=\"feas2\")\n",
    "m.addConstrs((quicksum(x[i,k] for k in range(B)) >= 1 for i in range(V)), name=\"feas3\")\n",
    "m.update()"
   ]
  },
  {
   "cell_type": "code",
   "execution_count": null,
   "id": "2d528256",
   "metadata": {
    "scrolled": true
   },
   "outputs": [],
   "source": [
    "m.optimize()"
   ]
  },
  {
   "cell_type": "code",
   "execution_count": null,
   "id": "0105c42e",
   "metadata": {},
   "outputs": [],
   "source": [
    "sol = [v.X for k,v in x.items()]\n",
    "obj_vals = [v.X for k,v in error.items()]\n",
    "k_vals = [quicksum(coeff2[j][i]*H1[k]*x[i,k] for i in range(V) for k in range(B)).getValue() for j in range(num_samples)]\n",
    "l_vals = [quicksum(coeff3[j][i]*H1[k]*x[i,k] for i in range(V) for k in range(B)).getValue() for j in range(num_samples)]"
   ]
  },
  {
   "attachments": {},
   "cell_type": "markdown",
   "id": "1ba3ad37",
   "metadata": {},
   "source": [
    "Save the results and data"
   ]
  },
  {
   "cell_type": "code",
   "execution_count": null,
   "id": "b199a12b",
   "metadata": {},
   "outputs": [],
   "source": [
    "with open('lji_diffres.pkl', 'wb') as f:\n",
    "    pickle.dump([obj_vals, k_vals, l_vals, sol, H1], f)"
   ]
  },
  {
   "cell_type": "code",
   "execution_count": null,
   "id": "f3abae88",
   "metadata": {},
   "outputs": [],
   "source": [
    "sol1 = np.array(sol)\n",
    "sol1 = sol1.reshape(V,B)"
   ]
  },
  {
   "cell_type": "code",
   "execution_count": null,
   "id": "231121e6",
   "metadata": {},
   "outputs": [],
   "source": [
    "plt.rcParams['font.size'] = '12'\n",
    "for i in range(V):\n",
    "    tmp1 = sum(sol1[i,:])\n",
    "    _ = plt.scatter((i+1)*np.ones(int(tmp1)), H1[sol1[i,:]==1], c='blue', alpha=.5, marker='.')\n",
    "    _ = plt.text(x=(i+1), y=np.max(H1[sol1[i,:]==1]), s=int(tmp1))\n",
    "_ = plt.xticks(list(range(1,V+1)),list(range(1,V+1)))\n",
    "_ = plt.xlabel('Stations', fontsize=14)\n",
    "_ = plt.ylabel('Resource viability', fontsize=14)\n",
    "plt.savefig('lji_diffres.pdf', bbox_inches='tight', transparent=True)"
   ]
  }
 ],
 "metadata": {
  "kernelspec": {
   "display_name": "Python 3.6.8 ('venv2': virtualenv)",
   "language": "python",
   "name": "python3"
  },
  "language_info": {
   "codemirror_mode": {
    "name": "ipython",
    "version": 3
   },
   "file_extension": ".py",
   "mimetype": "text/x-python",
   "name": "python",
   "nbconvert_exporter": "python",
   "pygments_lexer": "ipython3",
   "version": "3.6.8"
  },
  "vscode": {
   "interpreter": {
    "hash": "5572670ece67f6053b5d3d6c38f26ac7cb6d3c6c25c5ff440df1e594edf47b46"
   }
  }
 },
 "nbformat": 4,
 "nbformat_minor": 5
}
