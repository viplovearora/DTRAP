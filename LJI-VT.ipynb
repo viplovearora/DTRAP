{
 "cells": [
  {
   "cell_type": "code",
   "execution_count": null,
   "id": "87a45af2",
   "metadata": {},
   "outputs": [],
   "source": [
    "from gurobipy import *\n",
    "import random\n",
    "import matplotlib.pyplot as plt\n",
    "import numpy as np\n",
    "import pickle\n",
    "import pandas as pd\n",
    "from matplotlib import cm"
   ]
  },
  {
   "attachments": {},
   "cell_type": "markdown",
   "id": "961a3b54",
   "metadata": {},
   "source": [
    "The dataset used for this case study are confidential, instead we share a template of the csv file (see lji_template.csv)"
   ]
  },
  {
   "cell_type": "code",
   "execution_count": null,
   "id": "da24e3c2",
   "metadata": {},
   "outputs": [],
   "source": [
    "dat = pd.read_csv('*.csv', sep=';')"
   ]
  },
  {
   "attachments": {},
   "cell_type": "markdown",
   "id": "65d5cdc6",
   "metadata": {},
   "source": [
    "Define variables for the problem using the data - separate coefficients for traffickers and victims "
   ]
  },
  {
   "cell_type": "code",
   "execution_count": null,
   "id": "989c3b9b",
   "metadata": {},
   "outputs": [],
   "source": [
    "V = dat.shape[0]\n",
    "Q = np.log2(dat.iloc[:,12]*dat.iloc[:,10])\n",
    "Cq = np.ones(V)\n",
    "num_samples = 1000\n",
    "# define proportion of trafficking as a random variable\n",
    "s_mean = dat.iloc[:,3]/dat.iloc[:,2]\n",
    "s_mean[10]=.31\n",
    "s_mean[s_mean==0]=.05\n",
    "mar = .1\n",
    "s=np.minimum(np.maximum(np.random.triangular(left=s_mean-mar, mode=s_mean, right=s_mean+mar, size=(num_samples, len(s_mean))),0),1)\n",
    "\n",
    "frac_v = 0.8 # fraction of victims, rest are traffickers\n",
    "\n",
    "S1_v = [Q*(1-s[j])*frac_v for j in range(num_samples)]\n",
    "S2_v = [Q*s[j]*frac_v for j in range(num_samples)]\n",
    "\n",
    "S1_t = [Q*(1-s[j])*(1-frac_v) for j in range(num_samples)]\n",
    "S2_t = [Q*s[j]*(1-frac_v) for j in range(num_samples)]\n",
    "\n",
    "num_devices = V\n",
    "ytpr_v = (dat.iloc[:,5:10] * [.1,.3,.5,.7,.9]).sum(axis=1)/dat.iloc[:,2]\n",
    "ytpr_t = np.minimum((ytpr_v + 0.05), 1)\n",
    "ytnr = 0.5 * np.ones(V)"
   ]
  },
  {
   "cell_type": "code",
   "execution_count": null,
   "id": "eed69bda",
   "metadata": {},
   "outputs": [],
   "source": [
    "coeff2_v = [[a*b for a,b in zip(S2_v[j],ytpr_v)] for j in range(num_samples)]\n",
    "coeff3_v = [[a*b for a,b in zip(S1_v[j],ytnr)] for j in range(num_samples)]\n",
    "\n",
    "coeff2_t = [[a*b for a,b in zip(S2_t[j],ytpr_t)] for j in range(num_samples)]\n",
    "coeff3_t = [[a*b for a,b in zip(S1_t[j],ytnr)] for j in range(num_samples)]\n",
    "\n",
    "coq_v = [S1_v[j]*(1-ytnr)+S2_v[j]*(1-ytpr_v) for j in range(num_samples)]\n",
    "coq_t = [S1_t[j]*(1-ytnr)+S2_t[j]*(1-ytpr_t) for j in range(num_samples)]"
   ]
  },
  {
   "cell_type": "markdown",
   "id": "2daeb4f6",
   "metadata": {},
   "source": [
    "DTRAP-VT for LJI"
   ]
  },
  {
   "cell_type": "code",
   "execution_count": null,
   "id": "5d458c19",
   "metadata": {},
   "outputs": [],
   "source": [
    "alloc_lji = dat.iloc[:,11]\n",
    "B = sum(dat.iloc[:,11])\n",
    "K = 60\n",
    "L = 6*K\n",
    "m = Model()\n",
    "m.ModelSense = 1  # minimize\n",
    "# Add variables\n",
    "x = m.addVars(V, vtype='I', name='x', lb=[1]*V, ub=[10]*V)\n",
    "error = m.addVars(num_samples, obj=1.0/num_samples, name='error')\n",
    "# Set constraints\n",
    "m.addConstr(quicksum(x[i] for i in range(V)) == B, name=\"resources\")\n",
    "m.addConstrs((quicksum(coeff2_v[j][i]*x[i] + coeff2_t[j][i]*x[i] for i in range(V)) >= K for j in range(num_samples)), name=\"HT\")\n",
    "m.addConstrs((quicksum(coeff3_v[j][i]*x[i] + coeff3_t[j][i]*x[i] for i in range(V)) <= L for j in range(num_samples)), name=\"NHT\")\n",
    "m.addConstrs((error[j] == quicksum(coq_v[j][i]*x[i] + coq_t[j][i]*x[i] for i in range(V)) for j in range(num_samples)), name='error')\n",
    "m.update()"
   ]
  },
  {
   "cell_type": "code",
   "execution_count": null,
   "id": "2d528256",
   "metadata": {},
   "outputs": [],
   "source": [
    "m.optimize()"
   ]
  },
  {
   "cell_type": "code",
   "execution_count": null,
   "id": "794b0b1d",
   "metadata": {},
   "outputs": [],
   "source": [
    "sol1 = [v.X for k,v in x.items()]\n",
    "obj_vals1 = [v.X for k,v in error.items()]\n",
    "k_vals1 = [quicksum(coeff2_v[j][i]*x[i] + coeff2_t[j][i]*x[i] for i in range(V)).getValue() for j in range(num_samples)]\n",
    "l_vals1 = [quicksum(coeff3_v[j][i]*x[i] + coeff3_t[j][i]*x[i] for i in range(V)).getValue() for j in range(num_samples)]"
   ]
  },
  {
   "cell_type": "code",
   "execution_count": null,
   "id": "d6523641",
   "metadata": {},
   "outputs": [],
   "source": [
    "with open('lji_vt_frac_v.pkl', 'wb') as f:\n",
    "    pickle.dump([obj_vals, k_vals, l_vals, sol], f)\n",
    "# with open('lji-vt_frac_v.pkl', 'rb') as f:\n",
    "#     obj_vals, k_vals, l_vals, sol = pickle.load(f)"
   ]
  },
  {
   "cell_type": "code",
   "execution_count": null,
   "id": "4e95d04d",
   "metadata": {},
   "outputs": [],
   "source": [
    "viridis = cm.get_cmap('viridis', 4)"
   ]
  },
  {
   "attachments": {},
   "cell_type": "markdown",
   "id": "e416828b",
   "metadata": {},
   "source": [
    "Create plots for Figure 9"
   ]
  },
  {
   "cell_type": "code",
   "execution_count": null,
   "id": "a3957e16",
   "metadata": {},
   "outputs": [],
   "source": [
    "plt.rcParams['font.size'] = '12'\n",
    "key1 = 0.7\n",
    "for key in obj_vals.keys():\n",
    "    plt.hist((obj_vals[key]-np.mean(obj_vals[key1]))*100/np.mean(obj_vals[key1]), bins=30, alpha=0.75, label=str(key), density=True, color=viridis((key-.6)*1/.3))\n",
    "# plt.legend(bbox_to_anchor=(1,1), title='Fraction of victims')\n",
    "plt.xlabel('Errors', fontsize=14)\n",
    "plt.ylabel('Probability', fontsize=14)\n",
    "plt.savefig('lji_errors_vt.pdf', bbox_inches='tight', transparent=True)"
   ]
  },
  {
   "cell_type": "code",
   "execution_count": null,
   "id": "c1780157",
   "metadata": {},
   "outputs": [],
   "source": [
    "plt.rcParams['font.size'] = '12'\n",
    "key1 = 0.7\n",
    "for key in k_vals.keys():\n",
    "    plt.hist((k_vals[key]-np.mean(k_vals[key1]))*100/np.mean(k_vals[key1]), bins=30, alpha=0.75, label=str(key), density=True, color=viridis((key-.6)*1/.3))\n",
    "# plt.legend(bbox_to_anchor=(1,1), title='Fraction of victims')\n",
    "plt.xlabel('Trafficking', fontsize=14)\n",
    "plt.ylabel('Probability', fontsize=14)\n",
    "plt.savefig('lji_K_vt.pdf', bbox_inches='tight', transparent=True)"
   ]
  },
  {
   "cell_type": "code",
   "execution_count": null,
   "id": "93b8f514",
   "metadata": {},
   "outputs": [],
   "source": [
    "plt.rcParams['font.size'] = '12'\n",
    "key1 = 0.7\n",
    "for key in l_vals.keys():\n",
    "    plt.hist((l_vals[key]-np.mean(l_vals[key1]))*100/np.mean(l_vals[key1]), bins=30, alpha=0.75, label=str(key), density=True, color=viridis((key-.6)*1/.3))\n",
    "plt.legend(bbox_to_anchor=(1,1), title='Fraction of\\n victims')\n",
    "plt.xlabel('Non-trafficking', fontsize=14)\n",
    "plt.ylabel('Probability', fontsize=14)\n",
    "plt.savefig('lji_L_vt.pdf', bbox_inches='tight', transparent=True)"
   ]
  }
 ],
 "metadata": {
  "kernelspec": {
   "display_name": "Python 3.6.8 ('venv2': virtualenv)",
   "language": "python",
   "name": "python3"
  },
  "language_info": {
   "codemirror_mode": {
    "name": "ipython",
    "version": 3
   },
   "file_extension": ".py",
   "mimetype": "text/x-python",
   "name": "python",
   "nbconvert_exporter": "python",
   "pygments_lexer": "ipython3",
   "version": "3.6.8"
  },
  "vscode": {
   "interpreter": {
    "hash": "5572670ece67f6053b5d3d6c38f26ac7cb6d3c6c25c5ff440df1e594edf47b46"
   }
  }
 },
 "nbformat": 4,
 "nbformat_minor": 5
}
